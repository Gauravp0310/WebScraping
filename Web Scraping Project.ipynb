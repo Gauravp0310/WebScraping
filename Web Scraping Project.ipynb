{
 "cells": [
  {
   "cell_type": "code",
   "execution_count": 4,
   "id": "57536cd2-c914-4c1a-a3fa-697f2310dc4a",
   "metadata": {},
   "outputs": [
    {
     "name": "stdout",
     "output_type": "stream",
     "text": [
      " Teams P W L Pts Nrr \n",
      " Australia Women 4 4 0 8 +1.744 \n",
      " South Africa Women 4 4 0 8 +0.226 \n",
      " West Indies Women 5 3 2 6 -0.930 \n",
      " India Women 4 2 2 4 +0.632 \n",
      " New Zealand Women 5 2 3 4 -0.216 \n",
      " England Women 4 1 3 2 +0.351 \n",
      " Bangladesh Women 4 1 3 2 -0.342 \n",
      " Pakistan Women 4 0 4 0 -0.996 \n",
      "HistoryPoints TableSquadsVenuesPhotos\n",
      "\n",
      "Home Cricbuzz PlusMy Account\n",
      "MatchesPoints TableNews\n",
      "EditorialsFixturesResults\n",
      "PhotosSeriesPlayers\n",
      "Rankings - MenRankings - Women\n"
     ]
    }
   ],
   "source": [
    "# importing libraries\n",
    "import requests \n",
    "import bs4 \n",
    "\n",
    "req = requests.get('https://m.cricbuzz.com/cricket-series/3202/icc-womens-world-cup-2022/points-table')\n",
    "# use bs4 to format webpage\n",
    "soup = bs4.BeautifulSoup(req.text, 'lxml')\n",
    "\n",
    "table = soup.select('tr')\n",
    "\n",
    "for item in table:\n",
    "    print(item.text)"
   ]
  }
 ],
 "metadata": {
  "kernelspec": {
   "display_name": "Python 3 (ipykernel)",
   "language": "python",
   "name": "python3"
  },
  "language_info": {
   "codemirror_mode": {
    "name": "ipython",
    "version": 3
   },
   "file_extension": ".py",
   "mimetype": "text/x-python",
   "name": "python",
   "nbconvert_exporter": "python",
   "pygments_lexer": "ipython3",
   "version": "3.9.7"
  }
 },
 "nbformat": 4,
 "nbformat_minor": 5
}
